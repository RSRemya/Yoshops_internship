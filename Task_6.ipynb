{
 "cells": [
  {
   "cell_type": "markdown",
   "id": "e2b0223e",
   "metadata": {},
   "source": [
    "# Task:\n",
    "Automation : Products Review reply Automation Validation\n",
    "Write a python programm to reply review in product page where customers write  feedback on Products .\n",
    "\n",
    "Input value link = Yoshops.com\n",
    "Output = create excel file with  web url, Products name, Products Details, products review, customer name and customer email id columns."
   ]
  },
  {
   "cell_type": "code",
   "execution_count": 1,
   "id": "56499fb3",
   "metadata": {},
   "outputs": [
    {
     "name": "stdout",
     "output_type": "stream",
     "text": [
      "Defaulting to user installation because normal site-packages is not writeable\n",
      "Requirement already satisfied: selenium in c:\\users\\hp\\appdata\\roaming\\python\\python39\\site-packages (4.4.3)\n",
      "Requirement already satisfied: trio-websocket~=0.9 in c:\\users\\hp\\appdata\\roaming\\python\\python39\\site-packages (from selenium) (0.9.2)\n",
      "Requirement already satisfied: certifi>=2021.10.8 in c:\\programdata\\anaconda3\\lib\\site-packages (from selenium) (2021.10.8)\n",
      "Requirement already satisfied: trio~=0.17 in c:\\users\\hp\\appdata\\roaming\\python\\python39\\site-packages (from selenium) (0.21.0)\n",
      "Requirement already satisfied: urllib3[socks]~=1.26 in c:\\programdata\\anaconda3\\lib\\site-packages (from selenium) (1.26.9)\n",
      "Requirement already satisfied: sniffio in c:\\programdata\\anaconda3\\lib\\site-packages (from trio~=0.17->selenium) (1.2.0)\n",
      "Requirement already satisfied: outcome in c:\\users\\hp\\appdata\\roaming\\python\\python39\\site-packages (from trio~=0.17->selenium) (1.2.0)\n",
      "Requirement already satisfied: cffi>=1.14 in c:\\programdata\\anaconda3\\lib\\site-packages (from trio~=0.17->selenium) (1.15.0)\n",
      "Requirement already satisfied: idna in c:\\programdata\\anaconda3\\lib\\site-packages (from trio~=0.17->selenium) (3.3)\n",
      "Requirement already satisfied: async-generator>=1.9 in c:\\users\\hp\\appdata\\roaming\\python\\python39\\site-packages (from trio~=0.17->selenium) (1.10)\n",
      "Requirement already satisfied: sortedcontainers in c:\\programdata\\anaconda3\\lib\\site-packages (from trio~=0.17->selenium) (2.4.0)\n",
      "Requirement already satisfied: attrs>=19.2.0 in c:\\programdata\\anaconda3\\lib\\site-packages (from trio~=0.17->selenium) (21.4.0)\n",
      "Requirement already satisfied: pycparser in c:\\programdata\\anaconda3\\lib\\site-packages (from cffi>=1.14->trio~=0.17->selenium) (2.21)\n",
      "Requirement already satisfied: wsproto>=0.14 in c:\\users\\hp\\appdata\\roaming\\python\\python39\\site-packages (from trio-websocket~=0.9->selenium) (1.2.0)\n",
      "Requirement already satisfied: PySocks!=1.5.7,<2.0,>=1.5.6 in c:\\programdata\\anaconda3\\lib\\site-packages (from urllib3[socks]~=1.26->selenium) (1.7.1)\n",
      "Requirement already satisfied: h11<1,>=0.9.0 in c:\\users\\hp\\appdata\\roaming\\python\\python39\\site-packages (from wsproto>=0.14->trio-websocket~=0.9->selenium) (0.13.0)\n",
      "Note: you may need to restart the kernel to use updated packages.\n"
     ]
    }
   ],
   "source": [
    "pip install selenium"
   ]
  },
  {
   "cell_type": "code",
   "execution_count": 4,
   "id": "d67a956d",
   "metadata": {},
   "outputs": [
    {
     "name": "stderr",
     "output_type": "stream",
     "text": [
      "C:\\Users\\HP\\AppData\\Local\\Temp\\ipykernel_15552\\2399504662.py:7: DeprecationWarning: executable_path has been deprecated, please pass in a Service object\n",
      "  browser = webdriver.Chrome(executable_path=\"C:/Users/chromedriver/chromedriver\")\n"
     ]
    }
   ],
   "source": [
    "# if selenium is used for the first time -- use -- pip install selenium\n",
    "#its a package used for automation\n",
    "\n",
    "from selenium import webdriver\n",
    "# To interact with chrome webdriver is used\n",
    "\n",
    "browser = webdriver.Chrome(executable_path=\"C:/Users/chromedriver/chromedriver\")\n",
    "# To open chrome window, an instance is made"
   ]
  },
  {
   "cell_type": "code",
   "execution_count": 5,
   "id": "26b46c58",
   "metadata": {},
   "outputs": [],
   "source": [
    "browser.get(\"https://yoshops.com/\")\n",
    "# The url to be accessed is mentioned"
   ]
  },
  {
   "cell_type": "code",
   "execution_count": 6,
   "id": "2c9ca65a",
   "metadata": {},
   "outputs": [],
   "source": [
    "from selenium.webdriver.common.by import By\n",
    "# By module is imported to acsess search button"
   ]
  },
  {
   "cell_type": "code",
   "execution_count": 7,
   "id": "ec574460",
   "metadata": {},
   "outputs": [],
   "source": [
    "product_names = browser.find_elements(By.XPATH,\"//span[contains(@class, 'product-title')]\")"
   ]
  },
  {
   "cell_type": "code",
   "execution_count": 8,
   "id": "31c1fe00",
   "metadata": {},
   "outputs": [],
   "source": [
    "item_name = []\n",
    "old_price = []\n",
    "discounted_price = []"
   ]
  },
  {
   "cell_type": "code",
   "execution_count": 9,
   "id": "1c8dd62a",
   "metadata": {},
   "outputs": [
    {
     "name": "stdout",
     "output_type": "stream",
     "text": [
      "Hammer Airflow True Wireless Earbuds (Blue), 5 Hours Playtime, with Magnetic Charging case (300mah),Built-in Voice Assistant & Bluetooth 5.0\n",
      "Candytech H111i Supersonic Bass earphone Wired Headset With Mic\n",
      "Boat Rockerz 530 Foldable Bluetooth Headphone with Mic (Carbon Black)\n",
      "WS887 Mini Wireless Bluetooth Speaker\n",
      "Mini VR BOX Virtual Reality Headsets with ultra 3D glasses Compatible with Android and IOS Devices (Blue, Black)\n",
      "Reliance Jio Phone\n",
      "Vmax HX 750 Quadcopter Drone (No Camera)\n",
      "Sony PlayStation PS2 Gaming Console 150 GB Hard Disk With 50 Games Preloaded(Black)\n",
      "HRX by Hrithik Roshan Men Orange Printed Cotton T-shirt With Yoshops Free Gift Hear phone Pouch\n",
      "Wedding Doll Toy\n",
      "Lovely Couple Set with Movable Joints Doll in Role Playing Game for Kids Multicolour (Green,Black,Blue)\n",
      "Data Analyst Training Program With Real Time Project\n"
     ]
    }
   ],
   "source": [
    "for product in product_names:\n",
    "    print(product.text)\n",
    "    item_name.append(product.text)\n"
   ]
  },
  {
   "cell_type": "code",
   "execution_count": 10,
   "id": "1a999cc7",
   "metadata": {},
   "outputs": [
    {
     "data": {
      "text/plain": [
       "['Hammer Airflow True Wireless Earbuds (Blue), 5 Hours Playtime, with Magnetic Charging case (300mah),Built-in Voice Assistant & Bluetooth 5.0',\n",
       " 'Candytech H111i Supersonic Bass earphone Wired Headset With Mic',\n",
       " 'Boat Rockerz 530 Foldable Bluetooth Headphone with Mic (Carbon Black)',\n",
       " 'WS887 Mini Wireless Bluetooth Speaker',\n",
       " 'Mini VR BOX Virtual Reality Headsets with ultra 3D glasses Compatible with Android and IOS Devices (Blue, Black)',\n",
       " 'Reliance Jio Phone',\n",
       " 'Vmax HX 750 Quadcopter Drone (No Camera)',\n",
       " 'Sony PlayStation PS2 Gaming Console 150 GB Hard Disk With 50 Games Preloaded(Black)',\n",
       " 'HRX by Hrithik Roshan Men Orange Printed Cotton T-shirt With Yoshops Free Gift Hear phone Pouch',\n",
       " 'Wedding Doll Toy',\n",
       " 'Lovely Couple Set with Movable Joints Doll in Role Playing Game for Kids Multicolour (Green,Black,Blue)',\n",
       " 'Data Analyst Training Program With Real Time Project']"
      ]
     },
     "execution_count": 10,
     "metadata": {},
     "output_type": "execute_result"
    }
   ],
   "source": [
    "item_name"
   ]
  },
  {
   "cell_type": "code",
   "execution_count": 8,
   "id": "27e94665",
   "metadata": {},
   "outputs": [
    {
     "name": "stdout",
     "output_type": "stream",
     "text": [
      "4,475.00\n",
      "3,495.00\n",
      "456.00\n",
      "999.00\n",
      "999.00\n",
      "1,487.00\n",
      "1,999.00\n",
      "4,000.00\n",
      "4,678.00\n",
      "2,232.00\n",
      "12,289.00\n",
      "6,500.00\n"
     ]
    }
   ],
   "source": [
    "price = browser.find_elements(By.XPATH,\"//div[contains(@class, 'product-price')]\")\n",
    "for tx in price:\n",
    "    print(tx.text.split('₹')[1])\n",
    "    old_price.append(tx.text.split('₹')[1])"
   ]
  },
  {
   "cell_type": "code",
   "execution_count": 9,
   "id": "ea328802",
   "metadata": {},
   "outputs": [
    {
     "name": "stdout",
     "output_type": "stream",
     "text": [
      "799.00\n",
      "699.00\n",
      "299.00\n",
      "799.00\n",
      "399.00\n",
      "349.00\n",
      "1,499.00\n",
      "1,499.00\n",
      "2,299.00\n",
      "999.00\n",
      "8,999.00\n",
      "999.00\n"
     ]
    }
   ],
   "source": [
    "price = browser.find_elements(By.XPATH,\"//div[contains(@class, 'product-price')]\")\n",
    "for tx in price:\n",
    "    print(tx.text.split('₹')[2])\n",
    "    discounted_price.append(tx.text.split('₹')[2])"
   ]
  },
  {
   "cell_type": "code",
   "execution_count": 10,
   "id": "bd4a8f40",
   "metadata": {},
   "outputs": [],
   "source": [
    "import pandas as pd"
   ]
  },
  {
   "cell_type": "code",
   "execution_count": 11,
   "id": "ad4c1c6b",
   "metadata": {},
   "outputs": [
    {
     "name": "stdout",
     "output_type": "stream",
     "text": [
      "                                         Product Name Old Price in ₹  \\\n",
      "0   Hammer Airflow True Wireless Earbuds (Blue), 5...       4,475.00   \n",
      "1   Hammer Sting Lite In-Ear Wireless Bluetooth Ne...       3,495.00   \n",
      "2   Candytech H111i Supersonic Bass earphone Wired...         456.00   \n",
      "3   Boat Rockerz 530 Foldable Bluetooth Headphone ...         999.00   \n",
      "4               WS887 Mini Wireless Bluetooth Speaker         999.00   \n",
      "5   Mini VR BOX Virtual Reality Headsets with ultr...       1,487.00   \n",
      "6                                  Reliance Jio Phone       1,999.00   \n",
      "7            Vmax HX 750 Quadcopter Drone (No Camera)       4,000.00   \n",
      "8   Avengers Captain America Drone Four Axis Aircr...       4,678.00   \n",
      "9   Olifair Pearls Saffron and Radiant Effect Nigh...       2,232.00   \n",
      "10  Sony PlayStation PS2 Gaming Console 150 GB Har...      12,289.00   \n",
      "11  BBA Online Class Live Tuition Training Program...       6,500.00   \n",
      "\n",
      "   Discounted Price in ₹  \n",
      "0                 799.00  \n",
      "1                 699.00  \n",
      "2                 299.00  \n",
      "3                 799.00  \n",
      "4                 399.00  \n",
      "5                 349.00  \n",
      "6               1,499.00  \n",
      "7               1,499.00  \n",
      "8               2,299.00  \n",
      "9                 999.00  \n",
      "10              8,999.00  \n",
      "11                999.00  \n"
     ]
    }
   ],
   "source": [
    "df1 = pd.DataFrame(list(zip(item_name,old_price,discounted_price)),\n",
    "               columns =['Product Name', 'Old Price in ₹', 'Discounted Price in ₹'])\n",
    "print(df1)"
   ]
  },
  {
   "cell_type": "code",
   "execution_count": 12,
   "id": "2c5daec7",
   "metadata": {},
   "outputs": [],
   "source": [
    "#browser.find_element(By.LINK_TEXT,item_name[0]).click()\n",
    "browser.get(\"https://yoshops.com\"+\"/products/hammer-airflow-true-wireless-earbuds-blue-5-hours-playtime-with-magnetic-charging-case-300mah-built-in-voice-assistant-bluetooth-5-0\")"
   ]
  },
  {
   "cell_type": "code",
   "execution_count": 13,
   "id": "179e381f",
   "metadata": {},
   "outputs": [
    {
     "data": {
      "text/plain": [
       "'Cash On Delivery Available-Free Shipping Available-Free One Gift Available(Wired Headset With Mic)-Use Coupon Code for 5% Discount:  Neha@gift  -Product Details:-Model Name: Airflow TWS with Mic-Brand: Hammer-Manufacturer HAMMER, Mail- info@hammeronline.in, Mob- 9991108081-Model AIRFLOW-Model Name Airflow-Product Dimensions 0.4 x 0.4 x 0.7 cm; 40 Grams-Batteries 1 Lithium Polymer batteries required. (included)'"
      ]
     },
     "execution_count": 13,
     "metadata": {},
     "output_type": "execute_result"
    }
   ],
   "source": [
    "product_details = browser.find_elements(By.XPATH,\"//font[contains(@color, '#000000')]\")\n",
    "item_details=[]\n",
    "for details in product_details:\n",
    "    item_details.append(details.text) \n",
    "while '' in item_details:\n",
    "    item_details.remove('')\n",
    "item_details1='-'.join(item_details)\n",
    "item_details1"
   ]
  },
  {
   "cell_type": "code",
   "execution_count": 15,
   "id": "0093c32a",
   "metadata": {},
   "outputs": [],
   "source": [
    "## import Action chains \n",
    "from selenium.webdriver.common.action_chains import ActionChains\n",
    "button = browser.find_element(By.XPATH, \"//div[@class='yotpo-regular-box yotpo-bottomline yotpo-bottomline-2-boxes yotpo-bottomline-empty-state']/div[3]/span[2][contains(text(),'write a review')]\")\n",
    "ActionChains(browser).move_to_element(button).click().perform()"
   ]
  },
  {
   "cell_type": "code",
   "execution_count": 22,
   "id": "32b1d73a",
   "metadata": {},
   "outputs": [],
   "source": [
    "star_button1 = browser.find_element(By.XPATH, \"//*[@data-score='5']\")\n",
    "ActionChains(browser).move_to_element(star_button1).click().perform()"
   ]
  },
  {
   "cell_type": "code",
   "execution_count": 20,
   "id": "dca2c448",
   "metadata": {},
   "outputs": [],
   "source": [
    "title = browser.find_element(\"name\",'review_title')\n",
    "# To fetch input so as to place the review title"
   ]
  },
  {
   "cell_type": "code",
   "execution_count": null,
   "id": "9aa90587",
   "metadata": {},
   "outputs": [],
   "source": [
    "title.send_keys('Thank You')\n",
    "# Here term to be written is mentioned"
   ]
  },
  {
   "cell_type": "code",
   "execution_count": null,
   "id": "460c129f",
   "metadata": {},
   "outputs": [],
   "source": [
    "write_review = browser.find_element(\"name\",'review_content')\n",
    "# To fetch input so as to place the review content"
   ]
  },
  {
   "cell_type": "code",
   "execution_count": null,
   "id": "02667785",
   "metadata": {},
   "outputs": [],
   "source": [
    "write_review.send_keys('Thank You for Your Review')\n",
    "# Here term to be written is mentioned"
   ]
  },
  {
   "cell_type": "code",
   "execution_count": null,
   "id": "4a12c06e",
   "metadata": {},
   "outputs": [],
   "source": [
    "write_name = browser.find_element(\"name\",'display_name')\n",
    "# To fetch input so as to place the name"
   ]
  },
  {
   "cell_type": "code",
   "execution_count": null,
   "id": "ff39546f",
   "metadata": {},
   "outputs": [],
   "source": [
    "write_name.send_keys('Remya')\n",
    "# Here term to be written is mentioned"
   ]
  },
  {
   "cell_type": "code",
   "execution_count": null,
   "id": "3eb640dc",
   "metadata": {},
   "outputs": [],
   "source": [
    "write_mailid = browser.find_element(\"name\",'email')\n",
    "# To fetch input so as to place the review content"
   ]
  },
  {
   "cell_type": "code",
   "execution_count": null,
   "id": "3fba6b9e",
   "metadata": {},
   "outputs": [],
   "source": [
    "write_mailid.send_keys('remyarish@gmail.com')\n",
    "# Here term to be written is mentioned"
   ]
  },
  {
   "cell_type": "code",
   "execution_count": null,
   "id": "00abc37c",
   "metadata": {},
   "outputs": [],
   "source": [
    "post_button = browser.find_element(By.XPATH, \"//*[@class='form-element submit-button']\")\n",
    "ActionChains(browser).move_to_element(post_button).click().perform()\n",
    "#ActionChains(browser).move_to_element(post_button).click().perform()"
   ]
  },
  {
   "cell_type": "code",
   "execution_count": null,
   "id": "2c5dd11f",
   "metadata": {},
   "outputs": [],
   "source": [
    "reviewer = browser.find_elements(By.XPATH,\"//span[contains(@class, 'y-label yotpo-user-name yotpo-font-bold pull-left')]\")\n",
    "reviewer_name = []\n",
    "for details in reviewer:\n",
    "    reviewer_name.append(details.text) \n",
    "while '' in reviewer_name:\n",
    "    reviewer_name.remove('')\n",
    "reviewer_name1='-'.join(reviewer_name)\n",
    "reviewer_name1"
   ]
  },
  {
   "cell_type": "code",
   "execution_count": null,
   "id": "1c59dc54",
   "metadata": {},
   "outputs": [],
   "source": [
    "product_reviews = browser.find_elements(By.XPATH,\"//div[contains(@class, 'content-review')]\")\n",
    "item_reviews=[]\n",
    "for reviews in product_reviews:\n",
    "    item_reviews.append(reviews.text) \n",
    "item_reviews1='-'.join(item_reviews)\n",
    "item_reviews1"
   ]
  },
  {
   "cell_type": "code",
   "execution_count": null,
   "id": "eac0a626",
   "metadata": {},
   "outputs": [],
   "source": [
    "#browser.find_element(By.LINK_TEXT,item_name[1]).click()\n",
    "browser.get(\"https://yoshops.com\"+\"/products/hammer-sting-lite-in-ear-wireless-bluetooth-neckband-earphones-black\")"
   ]
  },
  {
   "cell_type": "code",
   "execution_count": null,
   "id": "b97c6e12",
   "metadata": {},
   "outputs": [],
   "source": [
    "product_details = browser.find_elements(By.XPATH,\"//font[contains(@color, '#000000')]\")\n",
    "item_details=[]\n",
    "for details in product_details:\n",
    "    item_details.append(details.text) \n",
    "while '' in item_details:\n",
    "    item_details.remove('')\n",
    "item_details2='-'.join(item_details)\n",
    "item_details2"
   ]
  },
  {
   "cell_type": "code",
   "execution_count": null,
   "id": "a9d4eb95",
   "metadata": {},
   "outputs": [],
   "source": [
    "reviewer = browser.find_elements(By.XPATH,\"//span[contains(@class, 'y-label yotpo-user-name yotpo-font-bold pull-left')]\")\n",
    "reviewer_name = []\n",
    "for details in reviewer:\n",
    "    reviewer_name.append(details.text) \n",
    "while '' in reviewer_name:\n",
    "    reviewer_name.remove('')\n",
    "reviewer_name2='-'.join(reviewer_name)\n",
    "reviewer_name2"
   ]
  },
  {
   "cell_type": "code",
   "execution_count": null,
   "id": "4d384ce7",
   "metadata": {},
   "outputs": [],
   "source": [
    "product_reviews = browser.find_elements(By.XPATH,\"//div[contains(@class, 'content-review')]\")\n",
    "item_reviews=[]\n",
    "for reviews in product_reviews:\n",
    "    item_reviews.append(reviews.text) \n",
    "item_reviews2='-'.join(item_reviews)\n",
    "item_reviews2"
   ]
  },
  {
   "cell_type": "code",
   "execution_count": null,
   "id": "a496326c",
   "metadata": {},
   "outputs": [],
   "source": [
    "#browser.find_element(By.LINK_TEXT,item_name[2]).click()\n",
    "browser.get(\"https://yoshops.com\"+\"/products/candytech-h111i-supersonic-bass-earphone-wired-headset-with-mic\")"
   ]
  },
  {
   "cell_type": "code",
   "execution_count": null,
   "id": "a744884a",
   "metadata": {},
   "outputs": [],
   "source": [
    "product_details = browser.find_elements(By.XPATH,\"//div[contains(@class, 'peekaboo-inner clearfix')]\")\n",
    "item_details=[]\n",
    "for details in product_details:\n",
    "    item_details.append(details.text) \n",
    "while '' in item_details:\n",
    "    item_details.remove('')\n",
    "item_details3='-'.join(item_details)\n",
    "item_details3 = item_details3.replace('\\n','-')\n",
    "item_details3 "
   ]
  },
  {
   "cell_type": "code",
   "execution_count": null,
   "id": "48a7a8ed",
   "metadata": {},
   "outputs": [],
   "source": [
    "reviewer = browser.find_elements(By.XPATH,\"//span[contains(@class, 'y-label yotpo-user-name yotpo-font-bold pull-left')]\")\n",
    "reviewer_name = []\n",
    "for details in reviewer:\n",
    "    reviewer_name.append(details.text) \n",
    "while '' in reviewer_name:\n",
    "    reviewer_name.remove('')\n",
    "reviewer_name3='-'.join(reviewer_name)\n",
    "reviewer_name3"
   ]
  },
  {
   "cell_type": "code",
   "execution_count": null,
   "id": "301da645",
   "metadata": {},
   "outputs": [],
   "source": [
    "product_reviews = browser.find_elements(By.XPATH,\"//div[contains(@class, 'content-review')]\")\n",
    "item_reviews=[]\n",
    "for reviews in product_reviews:\n",
    "    item_reviews.append(reviews.text) \n",
    "item_reviews3='-'.join(item_reviews)\n",
    "item_reviews3"
   ]
  },
  {
   "cell_type": "code",
   "execution_count": null,
   "id": "fc006ecd",
   "metadata": {},
   "outputs": [],
   "source": [
    "browser.get(\"https://yoshops.com\"+\"/products/boat-rockerz-530-foldable-bluetooth-headphone-with-mic-carbon-black\")"
   ]
  },
  {
   "cell_type": "code",
   "execution_count": null,
   "id": "eaaf5dcb",
   "metadata": {},
   "outputs": [],
   "source": [
    "product_details = browser.find_elements(By.XPATH,\"//div[contains(@class, 'peekaboo-inner clearfix')]\")\n",
    "item_details=[]\n",
    "for details in product_details:\n",
    "    item_details.append(details.text) \n",
    "while '' in item_details:\n",
    "    item_details.remove('')\n",
    "item_details4='-'.join(item_details)\n",
    "item_details4 = item_details4.replace('\\n','-')\n",
    "item_details4 "
   ]
  },
  {
   "cell_type": "code",
   "execution_count": null,
   "id": "eb2567d5",
   "metadata": {},
   "outputs": [],
   "source": [
    "reviewer = browser.find_elements(By.XPATH,\"//span[contains(@class, 'y-label yotpo-user-name yotpo-font-bold pull-left')]\")\n",
    "reviewer_name = []\n",
    "for details in reviewer:\n",
    "    reviewer_name.append(details.text) \n",
    "while '' in reviewer_name:\n",
    "    reviewer_name.remove('')\n",
    "reviewer_name4='-'.join(reviewer_name)\n",
    "reviewer_name4"
   ]
  },
  {
   "cell_type": "code",
   "execution_count": null,
   "id": "a2ca5198",
   "metadata": {},
   "outputs": [],
   "source": [
    "product_reviews = browser.find_elements(By.XPATH,\"//div[contains(@class, 'content-review')]\")\n",
    "item_reviews=[]\n",
    "for reviews in product_reviews:\n",
    "    item_reviews.append(reviews.text) \n",
    "item_reviews4='-'.join(item_reviews)\n",
    "item_reviews4"
   ]
  },
  {
   "cell_type": "code",
   "execution_count": null,
   "id": "93927188",
   "metadata": {},
   "outputs": [],
   "source": [
    "browser.get(\"https://yoshops.com\"+\"/products/ws887-mini-wireless-bluetooth-speaker1\")"
   ]
  },
  {
   "cell_type": "code",
   "execution_count": null,
   "id": "15f3a966",
   "metadata": {},
   "outputs": [],
   "source": [
    "product_details = browser.find_elements(By.XPATH,\"//div[contains(@class, 'peekaboo-inner clearfix')]\")\n",
    "item_details=[]\n",
    "for details in product_details:\n",
    "    item_details.append(details.text) \n",
    "while '' in item_details:\n",
    "    item_details.remove('')\n",
    "item_details5='-'.join(item_details)\n",
    "item_details5 = item_details5.replace('\\n','-')\n",
    "item_details5 "
   ]
  },
  {
   "cell_type": "code",
   "execution_count": null,
   "id": "41d0de09",
   "metadata": {},
   "outputs": [],
   "source": [
    "reviewer = browser.find_elements(By.XPATH,\"//span[contains(@class, 'y-label yotpo-user-name yotpo-font-bold pull-left')]\")\n",
    "reviewer_name = []\n",
    "for details in reviewer:\n",
    "    reviewer_name.append(details.text) \n",
    "while '' in reviewer_name:\n",
    "    reviewer_name.remove('')\n",
    "reviewer_name5='-'.join(reviewer_name)\n",
    "reviewer_name5"
   ]
  },
  {
   "cell_type": "code",
   "execution_count": null,
   "id": "174f0579",
   "metadata": {},
   "outputs": [],
   "source": [
    "product_reviews = browser.find_elements(By.XPATH,\"//div[contains(@class, 'content-review')]\")\n",
    "item_reviews=[]\n",
    "for reviews in product_reviews:\n",
    "    item_reviews.append(reviews.text) \n",
    "item_reviews5='-'.join(item_reviews)\n",
    "item_reviews5"
   ]
  },
  {
   "cell_type": "code",
   "execution_count": null,
   "id": "260ec946",
   "metadata": {},
   "outputs": [],
   "source": [
    "browser.get(\"https://yoshops.com\"+\"/products/mini-vr-box-virtual-reality-headsets-with-ultra-3d-glasses-compatible-with-android-and-ios-devices-blue-black\")"
   ]
  },
  {
   "cell_type": "code",
   "execution_count": null,
   "id": "c5941068",
   "metadata": {},
   "outputs": [],
   "source": [
    "product_details = browser.find_elements(By.XPATH,\"//div[contains(@class, 'peekaboo-inner clearfix')]\")\n",
    "item_details=[]\n",
    "for details in product_details:\n",
    "    item_details.append(details.text) \n",
    "while '' in item_details:\n",
    "    item_details.remove('')\n",
    "item_details6='-'.join(item_details)\n",
    "item_details6 = item_details6.replace('\\n','-')\n",
    "item_details6 "
   ]
  },
  {
   "cell_type": "code",
   "execution_count": null,
   "id": "b417b01c",
   "metadata": {},
   "outputs": [],
   "source": [
    "reviewer = browser.find_elements(By.XPATH,\"//span[contains(@class, 'y-label yotpo-user-name yotpo-font-bold pull-left')]\")\n",
    "reviewer_name = []\n",
    "for details in reviewer:\n",
    "    reviewer_name.append(details.text) \n",
    "while '' in reviewer_name:\n",
    "    reviewer_name.remove('')\n",
    "reviewer_name6='-'.join(reviewer_name)\n",
    "reviewer_name6"
   ]
  },
  {
   "cell_type": "code",
   "execution_count": null,
   "id": "11701cbe",
   "metadata": {},
   "outputs": [],
   "source": [
    "product_reviews = browser.find_elements(By.XPATH,\"//div[contains(@class, 'content-review')]\")\n",
    "item_reviews=[]\n",
    "for reviews in product_reviews:\n",
    "    item_reviews.append(reviews.text) \n",
    "item_reviews6='-'.join(item_reviews)\n",
    "item_reviews6"
   ]
  },
  {
   "cell_type": "code",
   "execution_count": null,
   "id": "b7c91081",
   "metadata": {},
   "outputs": [],
   "source": [
    "browser.get(\"https://yoshops.com\"+\"/products/reliance-jio-phone1\")"
   ]
  },
  {
   "cell_type": "code",
   "execution_count": null,
   "id": "2f55c5fe",
   "metadata": {},
   "outputs": [],
   "source": [
    "product_details = browser.find_elements(By.XPATH,\"//div[contains(@class, 'peekaboo-inner clearfix')]\")\n",
    "item_details=[]\n",
    "for details in product_details:\n",
    "    item_details.append(details.text) \n",
    "while '' in item_details:\n",
    "    item_details.remove('')\n",
    "item_details7='-'.join(item_details)\n",
    "item_details7 = item_details7.replace('\\n','-')\n",
    "item_details7 "
   ]
  },
  {
   "cell_type": "code",
   "execution_count": null,
   "id": "09e2d3c2",
   "metadata": {},
   "outputs": [],
   "source": [
    "reviewer = browser.find_elements(By.XPATH,\"//span[contains(@class, 'y-label yotpo-user-name yotpo-font-bold pull-left')]\")\n",
    "reviewer_name = []\n",
    "for details in reviewer:\n",
    "    reviewer_name.append(details.text) \n",
    "while '' in reviewer_name:\n",
    "    reviewer_name.remove('')\n",
    "reviewer_name7='-'.join(reviewer_name)\n",
    "reviewer_name7"
   ]
  },
  {
   "cell_type": "code",
   "execution_count": null,
   "id": "87740848",
   "metadata": {},
   "outputs": [],
   "source": [
    "product_reviews = browser.find_elements(By.XPATH,\"//div[contains(@class, 'content-review')]\")\n",
    "item_reviews=[]\n",
    "for reviews in product_reviews:\n",
    "    item_reviews.append(reviews.text) \n",
    "item_reviews7='-'.join(item_reviews)\n",
    "item_reviews7"
   ]
  },
  {
   "cell_type": "code",
   "execution_count": null,
   "id": "23ac11cd",
   "metadata": {},
   "outputs": [],
   "source": [
    "browser.get(\"https://yoshops.com\"+\"/products/hx-750-remote-control-flying-drone\")"
   ]
  },
  {
   "cell_type": "code",
   "execution_count": null,
   "id": "95b10c30",
   "metadata": {},
   "outputs": [],
   "source": [
    "product_details = browser.find_elements(By.XPATH,\"//div[contains(@class, 'peekaboo-inner clearfix')]\")\n",
    "item_details=[]\n",
    "for details in product_details:\n",
    "    item_details.append(details.text) \n",
    "while '' in item_details:\n",
    "    item_details.remove('')\n",
    "item_details8='-'.join(item_details)\n",
    "item_details8 = item_details8.replace('\\n','-')\n",
    "item_details8 "
   ]
  },
  {
   "cell_type": "code",
   "execution_count": null,
   "id": "e5da35d7",
   "metadata": {},
   "outputs": [],
   "source": [
    "reviewer = browser.find_elements(By.XPATH,\"//span[contains(@class, 'y-label yotpo-user-name yotpo-font-bold pull-left')]\")\n",
    "reviewer_name = []\n",
    "for details in reviewer:\n",
    "    reviewer_name.append(details.text) \n",
    "while '' in reviewer_name:\n",
    "    reviewer_name.remove('')\n",
    "reviewer_name8='-'.join(reviewer_name)\n",
    "reviewer_name8"
   ]
  },
  {
   "cell_type": "code",
   "execution_count": null,
   "id": "107567a7",
   "metadata": {},
   "outputs": [],
   "source": [
    "product_reviews = browser.find_elements(By.XPATH,\"//div[contains(@class, 'content-review')]\")\n",
    "item_reviews=[]\n",
    "for reviews in product_reviews:\n",
    "    item_reviews.append(reviews.text) \n",
    "item_reviews8='-'.join(item_reviews)\n",
    "item_reviews8"
   ]
  },
  {
   "cell_type": "code",
   "execution_count": null,
   "id": "6bdf5fd0",
   "metadata": {},
   "outputs": [],
   "source": [
    "browser.get(\"https://yoshops.com\"+\"/products/avengers-captain-america-drone-four-axis-aircraft-with-2-4-ghz-rc-blade-guard-headless-mode-led-without-camera\")"
   ]
  },
  {
   "cell_type": "code",
   "execution_count": null,
   "id": "e8c7d847",
   "metadata": {},
   "outputs": [],
   "source": [
    "product_details = browser.find_elements(By.XPATH,\"//div[contains(@class, 'peekaboo-inner clearfix')]\")\n",
    "item_details=[]\n",
    "for details in product_details:\n",
    "    item_details.append(details.text) \n",
    "while '' in item_details:\n",
    "    item_details.remove('')\n",
    "item_details9='-'.join(item_details)\n",
    "item_details9 = item_details9.replace('\\n','-')\n",
    "item_details9 "
   ]
  },
  {
   "cell_type": "code",
   "execution_count": null,
   "id": "abac7e17",
   "metadata": {},
   "outputs": [],
   "source": [
    "reviewer = browser.find_elements(By.XPATH,\"//span[contains(@class, 'y-label yotpo-user-name yotpo-font-bold pull-left')]\")\n",
    "reviewer_name = []\n",
    "for details in reviewer:\n",
    "    reviewer_name.append(details.text) \n",
    "while '' in reviewer_name:\n",
    "    reviewer_name.remove('')\n",
    "reviewer_name9='-'.join(reviewer_name)\n",
    "reviewer_name9"
   ]
  },
  {
   "cell_type": "code",
   "execution_count": null,
   "id": "f9ceda14",
   "metadata": {},
   "outputs": [],
   "source": [
    "product_reviews = browser.find_elements(By.XPATH,\"//div[contains(@class, 'content-review')]\")\n",
    "item_reviews=[]\n",
    "for reviews in product_reviews:\n",
    "    item_reviews.append(reviews.text) \n",
    "item_reviews9='-'.join(item_reviews)\n",
    "item_reviews9"
   ]
  },
  {
   "cell_type": "code",
   "execution_count": null,
   "id": "b89e9f31",
   "metadata": {},
   "outputs": [],
   "source": [
    "browser.get(\"https://yoshops.com\"+\"/products/olifair-pearls-saffron-and-radiant-effect-night-cream-50ml\")"
   ]
  },
  {
   "cell_type": "code",
   "execution_count": null,
   "id": "5d655999",
   "metadata": {},
   "outputs": [],
   "source": [
    "product_details = browser.find_elements(By.XPATH,\"//div[contains(@class, 'peekaboo-inner clearfix')]\")\n",
    "item_details=[]\n",
    "for details in product_details:\n",
    "    item_details.append(details.text) \n",
    "while '' in item_details:\n",
    "    item_details.remove('')\n",
    "item_details10='-'.join(item_details)\n",
    "item_details10 = item_details10.replace('\\n','-')\n",
    "item_details10 "
   ]
  },
  {
   "cell_type": "code",
   "execution_count": null,
   "id": "5ed7e725",
   "metadata": {},
   "outputs": [],
   "source": [
    "reviewer = browser.find_elements(By.XPATH,\"//span[contains(@class, 'y-label yotpo-user-name yotpo-font-bold pull-left')]\")\n",
    "reviewer_name = []\n",
    "for details in reviewer:\n",
    "    reviewer_name.append(details.text) \n",
    "while '' in reviewer_name:\n",
    "    reviewer_name.remove('')\n",
    "reviewer_name10='-'.join(reviewer_name)\n",
    "reviewer_name10"
   ]
  },
  {
   "cell_type": "code",
   "execution_count": null,
   "id": "d2d48af2",
   "metadata": {},
   "outputs": [],
   "source": [
    "product_reviews = browser.find_elements(By.XPATH,\"//div[contains(@class, 'content-review')]\")\n",
    "item_reviews=[]\n",
    "for reviews in product_reviews:\n",
    "    item_reviews.append(reviews.text) \n",
    "item_reviews10='-'.join(item_reviews)\n",
    "item_reviews10"
   ]
  },
  {
   "cell_type": "code",
   "execution_count": null,
   "id": "18b08b63",
   "metadata": {},
   "outputs": [],
   "source": [
    "browser.get(\"https://yoshops.com\"+\"/products/sony-playstation-ps2-gaming-console-150-gb-hard-disk-with-50-games-preloaded-black\")"
   ]
  },
  {
   "cell_type": "code",
   "execution_count": null,
   "id": "d733a88a",
   "metadata": {},
   "outputs": [],
   "source": [
    "product_details = browser.find_elements(By.XPATH,\"//div[contains(@class, 'peekaboo-inner clearfix')]\")\n",
    "item_details=[]\n",
    "for details in product_details:\n",
    "    item_details.append(details.text) \n",
    "while '' in item_details:\n",
    "    item_details.remove('')\n",
    "item_details11='-'.join(item_details)\n",
    "item_details11 = item_details11.replace('\\n','-')\n",
    "item_details11 "
   ]
  },
  {
   "cell_type": "code",
   "execution_count": null,
   "id": "1c966f12",
   "metadata": {},
   "outputs": [],
   "source": [
    "reviewer = browser.find_elements(By.XPATH,\"//span[contains(@class, 'y-label yotpo-user-name yotpo-font-bold pull-left')]\")\n",
    "reviewer_name = []\n",
    "for details in reviewer:\n",
    "    reviewer_name.append(details.text) \n",
    "while '' in reviewer_name:\n",
    "    reviewer_name.remove('')\n",
    "reviewer_name11='-'.join(reviewer_name)\n",
    "reviewer_name11"
   ]
  },
  {
   "cell_type": "code",
   "execution_count": null,
   "id": "561cfaa8",
   "metadata": {},
   "outputs": [],
   "source": [
    "product_reviews = browser.find_elements(By.XPATH,\"//div[contains(@class, 'content-review')]\")\n",
    "item_reviews=[]\n",
    "for reviews in product_reviews:\n",
    "    item_reviews.append(reviews.text) \n",
    "item_reviews11='-'.join(item_reviews)\n",
    "item_reviews11"
   ]
  },
  {
   "cell_type": "code",
   "execution_count": null,
   "id": "b5f82c39",
   "metadata": {},
   "outputs": [],
   "source": [
    "browser.get(\"https://yoshops.com\"+\"/products/bba-online-class-live-tuition-training-program-with-internship1\")"
   ]
  },
  {
   "cell_type": "code",
   "execution_count": null,
   "id": "72086cbe",
   "metadata": {},
   "outputs": [],
   "source": [
    "product_details = browser.find_elements(By.XPATH,\"//div[contains(@class, 'peekaboo-inner clearfix')]\")\n",
    "item_details=[]\n",
    "for details in product_details:\n",
    "    item_details.append(details.text) \n",
    "while '' in item_details:\n",
    "    item_details.remove('')\n",
    "item_details12='-'.join(item_details)\n",
    "item_details12 = item_details12.replace('\\n','-')\n",
    "item_details12 "
   ]
  },
  {
   "cell_type": "code",
   "execution_count": null,
   "id": "cf66a536",
   "metadata": {},
   "outputs": [],
   "source": [
    "reviewer = browser.find_elements(By.XPATH,\"//span[contains(@class, 'y-label yotpo-user-name yotpo-font-bold pull-left')]\")\n",
    "reviewer_name = []\n",
    "for details in reviewer:\n",
    "    reviewer_name.append(details.text) \n",
    "while '' in reviewer_name:\n",
    "    reviewer_name.remove('')\n",
    "reviewer_name12='-'.join(reviewer_name)\n",
    "reviewer_name12"
   ]
  },
  {
   "cell_type": "code",
   "execution_count": null,
   "id": "dec3b53c",
   "metadata": {},
   "outputs": [],
   "source": [
    "product_reviews = browser.find_elements(By.XPATH,\"//div[contains(@class, 'content-review')]\")\n",
    "item_reviews=[]\n",
    "for reviews in product_reviews:\n",
    "    item_reviews.append(reviews.text) \n",
    "item_reviews12='-'.join(item_reviews)\n",
    "item_reviews12"
   ]
  },
  {
   "cell_type": "code",
   "execution_count": null,
   "id": "5b188211",
   "metadata": {},
   "outputs": [],
   "source": [
    "details_of_products = [item_details1,item_details2,item_details3,item_details4,item_details5,item_details6,item_details7,item_details8,item_details9,item_details10,item_details11,item_details12]"
   ]
  },
  {
   "cell_type": "code",
   "execution_count": null,
   "id": "0537c0af",
   "metadata": {},
   "outputs": [],
   "source": [
    "names_of_reviewers = [reviewer_name1,reviewer_name2,reviewer_name3,reviewer_name4,reviewer_name5,reviewer_name6,reviewer_name7,reviewer_name8,reviewer_name9,reviewer_name10,reviewer_name11,reviewer_name12]"
   ]
  },
  {
   "cell_type": "code",
   "execution_count": null,
   "id": "abf578b1",
   "metadata": {},
   "outputs": [],
   "source": [
    "reviews_by_reviewers = [item_reviews1,item_reviews2,item_reviews3,item_reviews4,item_reviews5,item_reviews6,item_reviews7,item_reviews8,item_reviews9,item_reviews10,item_reviews11,item_reviews12]"
   ]
  },
  {
   "cell_type": "code",
   "execution_count": null,
   "id": "fd1dbc60",
   "metadata": {},
   "outputs": [],
   "source": [
    "names_of_reviewers"
   ]
  },
  {
   "cell_type": "code",
   "execution_count": null,
   "id": "ce8fd07b",
   "metadata": {},
   "outputs": [],
   "source": [
    "df2 = pd.DataFrame(list(zip(details_of_products,names_of_reviewers,reviews_by_reviewers)),\n",
    "               columns =['Product Details', 'Reviewers Name', 'Reviews by Reviewers'])\n",
    "print(df2)"
   ]
  },
  {
   "cell_type": "code",
   "execution_count": null,
   "id": "9fce2677",
   "metadata": {},
   "outputs": [],
   "source": [
    "df = pd.concat([df1, df2], axis=1, join='inner')\n",
    "display(df)"
   ]
  },
  {
   "cell_type": "code",
   "execution_count": null,
   "id": "9935eb48",
   "metadata": {},
   "outputs": [],
   "source": [
    "# creating excel writer object\n",
    "product_file = pd.ExcelWriter('yoshops-excel.xlsx')\n",
    "# write dataframe to excel\n",
    " \n",
    "df.to_excel(product_file)\n",
    " \n",
    "# save the excel\n",
    "product_file.save()"
   ]
  },
  {
   "cell_type": "code",
   "execution_count": null,
   "id": "949e3b13",
   "metadata": {},
   "outputs": [],
   "source": []
  }
 ],
 "metadata": {
  "kernelspec": {
   "display_name": "Python 3 (ipykernel)",
   "language": "python",
   "name": "python3"
  },
  "language_info": {
   "codemirror_mode": {
    "name": "ipython",
    "version": 3
   },
   "file_extension": ".py",
   "mimetype": "text/x-python",
   "name": "python",
   "nbconvert_exporter": "python",
   "pygments_lexer": "ipython3",
   "version": "3.9.12"
  }
 },
 "nbformat": 4,
 "nbformat_minor": 5
}
